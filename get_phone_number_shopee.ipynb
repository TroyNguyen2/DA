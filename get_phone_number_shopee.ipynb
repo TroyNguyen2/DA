{
 "cells": [
  {
   "cell_type": "code",
   "execution_count": 1,
   "metadata": {},
   "outputs": [],
   "source": [
    "import pandas as pd\n",
    "import numpy as np\n",
    "import re"
   ]
  },
  {
   "cell_type": "code",
   "execution_count": 2,
   "metadata": {},
   "outputs": [
    {
     "data": {
      "text/html": [
       "<div>\n",
       "<style scoped>\n",
       "    .dataframe tbody tr th:only-of-type {\n",
       "        vertical-align: middle;\n",
       "    }\n",
       "\n",
       "    .dataframe tbody tr th {\n",
       "        vertical-align: top;\n",
       "    }\n",
       "\n",
       "    .dataframe thead th {\n",
       "        text-align: right;\n",
       "    }\n",
       "</style>\n",
       "<table border=\"1\" class=\"dataframe\">\n",
       "  <thead>\n",
       "    <tr style=\"text-align: right;\">\n",
       "      <th></th>\n",
       "      <th>shop_id</th>\n",
       "      <th>shop_url</th>\n",
       "      <th>shop_name</th>\n",
       "      <th>type_shop</th>\n",
       "      <th>num_of_product</th>\n",
       "      <th>follower</th>\n",
       "      <th>response_rate</th>\n",
       "      <th>avg_rating</th>\n",
       "      <th>total_rating_count</th>\n",
       "      <th>joined_time</th>\n",
       "      <th>platform</th>\n",
       "      <th>location</th>\n",
       "      <th>description</th>\n",
       "    </tr>\n",
       "  </thead>\n",
       "  <tbody>\n",
       "    <tr>\n",
       "      <th>0</th>\n",
       "      <td>36467344</td>\n",
       "      <td>https://shopee.vn/shop/36467344</td>\n",
       "      <td>timeduo.vn</td>\n",
       "      <td>NaN</td>\n",
       "      <td>49</td>\n",
       "      <td>2</td>\n",
       "      <td>87</td>\n",
       "      <td>5</td>\n",
       "      <td>1,9k</td>\n",
       "      <td>5</td>\n",
       "      <td>shopee</td>\n",
       "      <td>TP. Hồ Chí Minh</td>\n",
       "      <td>NaN</td>\n",
       "    </tr>\n",
       "    <tr>\n",
       "      <th>1</th>\n",
       "      <td>449505459</td>\n",
       "      <td>https://shopee.vn/shop/449505459</td>\n",
       "      <td>Chi comestic</td>\n",
       "      <td>NaN</td>\n",
       "      <td>1</td>\n",
       "      <td>10</td>\n",
       "      <td>57</td>\n",
       "      <td>0</td>\n",
       "      <td>0</td>\n",
       "      <td>18</td>\n",
       "      <td>shopee</td>\n",
       "      <td>Thanh Hóa</td>\n",
       "      <td>NaN</td>\n",
       "    </tr>\n",
       "    <tr>\n",
       "      <th>2</th>\n",
       "      <td>38601863</td>\n",
       "      <td>https://shopee.vn/shop/38601863</td>\n",
       "      <td>HƯƠNG NHUNG SHOP</td>\n",
       "      <td>NaN</td>\n",
       "      <td>137</td>\n",
       "      <td>232</td>\n",
       "      <td>71</td>\n",
       "      <td>5</td>\n",
       "      <td>777</td>\n",
       "      <td>5</td>\n",
       "      <td>shopee</td>\n",
       "      <td>Hà Nội</td>\n",
       "      <td>NaN</td>\n",
       "    </tr>\n",
       "    <tr>\n",
       "      <th>3</th>\n",
       "      <td>1716340</td>\n",
       "      <td>https://shopee.vn/shop/1716340</td>\n",
       "      <td>2016 SKINCARE</td>\n",
       "      <td>NaN</td>\n",
       "      <td>330</td>\n",
       "      <td>63</td>\n",
       "      <td>28</td>\n",
       "      <td>2022-09-04 00:00:00</td>\n",
       "      <td>10,9k</td>\n",
       "      <td>7</td>\n",
       "      <td>shopee</td>\n",
       "      <td>Hà Nội</td>\n",
       "      <td>VUI LÒNG INBOX CHO MÌNH CÁC SẢN PHẨM BẠN CÀN M...</td>\n",
       "    </tr>\n",
       "    <tr>\n",
       "      <th>4</th>\n",
       "      <td>104502608</td>\n",
       "      <td>https://shopee.vn/shop/104502608</td>\n",
       "      <td>Thiên Hạnh Comestic</td>\n",
       "      <td>NaN</td>\n",
       "      <td>12</td>\n",
       "      <td>47</td>\n",
       "      <td>75</td>\n",
       "      <td>0</td>\n",
       "      <td>0</td>\n",
       "      <td>4</td>\n",
       "      <td>shopee</td>\n",
       "      <td>Hà Nội</td>\n",
       "      <td>Chuyên mỹ phẩm chính hãng Nhật Bản, Hàn Quốc,...</td>\n",
       "    </tr>\n",
       "  </tbody>\n",
       "</table>\n",
       "</div>"
      ],
      "text/plain": [
       "     shop_id                          shop_url            shop_name  \\\n",
       "0   36467344   https://shopee.vn/shop/36467344           timeduo.vn   \n",
       "1  449505459  https://shopee.vn/shop/449505459         Chi comestic   \n",
       "2   38601863   https://shopee.vn/shop/38601863     HƯƠNG NHUNG SHOP   \n",
       "3    1716340    https://shopee.vn/shop/1716340        2016 SKINCARE   \n",
       "4  104502608  https://shopee.vn/shop/104502608  Thiên Hạnh Comestic   \n",
       "\n",
       "   type_shop  num_of_product  follower  response_rate           avg_rating  \\\n",
       "0        NaN              49         2             87                    5   \n",
       "1        NaN               1        10             57                    0   \n",
       "2        NaN             137       232             71                    5   \n",
       "3        NaN             330        63             28  2022-09-04 00:00:00   \n",
       "4        NaN              12        47             75                    0   \n",
       "\n",
       "  total_rating_count  joined_time platform         location  \\\n",
       "0               1,9k            5   shopee  TP. Hồ Chí Minh   \n",
       "1                  0           18   shopee        Thanh Hóa   \n",
       "2                777            5   shopee           Hà Nội   \n",
       "3              10,9k            7   shopee           Hà Nội   \n",
       "4                  0            4   shopee           Hà Nội   \n",
       "\n",
       "                                         description  \n",
       "0                                                NaN  \n",
       "1                                                NaN  \n",
       "2                                                NaN  \n",
       "3  VUI LÒNG INBOX CHO MÌNH CÁC SẢN PHẨM BẠN CÀN M...  \n",
       "4   Chuyên mỹ phẩm chính hãng Nhật Bản, Hàn Quốc,...  "
      ]
     },
     "execution_count": 2,
     "metadata": {},
     "output_type": "execute_result"
    }
   ],
   "source": [
    "df=pd.read_excel('shopee_shop_info.xlsx')\n",
    "df.head()"
   ]
  },
  {
   "cell_type": "code",
   "execution_count": 3,
   "metadata": {},
   "outputs": [],
   "source": [
    "df=df.assign(phone_number = lambda x: x['description'].str.extract(\"(\\d+)\"))"
   ]
  },
  {
   "cell_type": "code",
   "execution_count": 4,
   "metadata": {},
   "outputs": [],
   "source": [
    "df['phone_number']=df['phone_number'].fillna('')"
   ]
  },
  {
   "cell_type": "code",
   "execution_count": 22,
   "metadata": {},
   "outputs": [],
   "source": [
    "for i in range(len(df['phone_number'])):\n",
    "    if len(df['phone_number'][i])!=10:\n",
    "        df['phone_number']=\"\" \n",
    "    else: df['phone_number']=df['phone_number']"
   ]
  },
  {
   "cell_type": "code",
   "execution_count": 23,
   "metadata": {},
   "outputs": [
    {
     "data": {
      "text/plain": [
       "array([''], dtype=object)"
      ]
     },
     "execution_count": 23,
     "metadata": {},
     "output_type": "execute_result"
    }
   ],
   "source": [
    "df['phone_number'].unique()"
   ]
  }
 ],
 "metadata": {
  "kernelspec": {
   "display_name": "Python 3.10.7 64-bit",
   "language": "python",
   "name": "python3"
  },
  "language_info": {
   "codemirror_mode": {
    "name": "ipython",
    "version": 3
   },
   "file_extension": ".py",
   "mimetype": "text/x-python",
   "name": "python",
   "nbconvert_exporter": "python",
   "pygments_lexer": "ipython3",
   "version": "3.10.7"
  },
  "orig_nbformat": 4,
  "vscode": {
   "interpreter": {
    "hash": "a9cff5a362bc38ef45d817ae74b1af54d6a076e3d773891282bce078b815ba34"
   }
  }
 },
 "nbformat": 4,
 "nbformat_minor": 2
}
