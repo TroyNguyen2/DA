{
 "cells": [
  {
   "cell_type": "code",
   "execution_count": 2,
   "metadata": {},
   "outputs": [],
   "source": [
    "import bs4 as bs \n",
    "import requests\n",
    "import json\n",
    "import csv\n",
    "import re\n",
    "\n",
    "source_url=\"tiki.vn\"\n",
    "search_page_url = \"https://tiki.vn/search?q=genshin\"\n",
    "api_url = \"https://tiki.vn/api/v2/products/\"\n",
    "user_agent={'User-Agent':'Mozilla/5.0 (Windows NT 6.1; WOW64; rv:33.0) Gecko/20120101 Firefox/33.0'}"
   ]
  },
  {
   "cell_type": "markdown",
   "metadata": {},
   "source": [
    "## class product_list_container"
   ]
  },
  {
   "cell_type": "code",
   "execution_count": 3,
   "metadata": {},
   "outputs": [],
   "source": [
    "sauce=requests.get(search_page_url,headers=user_agent)\n",
    "soup=bs.BeautifulSoup(sauce.text,'html.parser')"
   ]
  },
  {
   "cell_type": "code",
   "execution_count": 8,
   "metadata": {},
   "outputs": [],
   "source": [
    "loop_to_end=soup.find('div',class_=\"Pagination__Root-sc-cyke21-0 gNgpAR\")\n",
    "end_of_page=int(re.findall('[0-9]+',[loop_to_end.find_all('li')[link].find('a').get('href') for link in range(0,len(loop_to_end.find_all('li')))][-2])[0])\n"
   ]
  },
  {
   "cell_type": "code",
   "execution_count": 10,
   "metadata": {},
   "outputs": [],
   "source": [
    "header=['id','sku','name','short_url','short_description','price','original','rating_average','review_count','productset_group_name','day_ago_created','all_time_quality_sold','image_url']\n",
    "with open(\"Tiki_crawl.csv\" , \"w\", newline = '',encoding='utf-8') as file_output:\n",
    "        writer = csv.DictWriter(file_output,delimiter =',', lineterminator = '\\n', fieldnames = header)\n",
    "        writer.writeheader()\n",
    "        #Move to next page\n",
    "        for x in range(0,end_of_page):\n",
    "            next_page=search_page_url+f'&page={x}'\n",
    "            # Get 40 urls product\n",
    "            list_product=soup.find_all(class_='product-item')\n",
    "            # Get link\n",
    "            product_url=[source_url+list_product[link].get('href') for link in range(0,len(list_product))]\n",
    "            #Get list_id\n",
    "            list_id=[product_url[id_product].split('.html')[0].split('-')[-1][1:] for id_product in range(0,len(list_product))]\n",
    "            \n",
    "            for i in range(0,len(list_id)):\n",
    "                try:\n",
    "                    json_url=api_url+list_id[i]\n",
    "                    sauce_json=requests.get(json_url,headers=user_agent)\n",
    "                    soup_json=bs.BeautifulSoup(sauce_json.text,\"html.parser\")\n",
    "                    data=list(json.loads(soup_json.string).items())\n",
    "                    id=data[0][1] #ID \n",
    "                    sku=data[2][1]#SKU\n",
    "                    name=data[3][1]#Name\n",
    "                    short_url=data[6][1]  #short_url\n",
    "                    short_description=data[9][1] #short_description\n",
    "                    price=data[10][1] #price\n",
    "                    original=data[12][1]#original price\n",
    "                    rating_average=data[17][1]#rating_average\n",
    "                    review_count=data[18][1] #review_count\n",
    "                    productset_group_name=data[25][1]  #productset_group_name\n",
    "                    day_ago_created=data[33][1]#day_ago_created\n",
    "                    all_time_quality_sold=data[34][1]#all_time_quality_sold\n",
    "                    image_url=data[41][1]#image_url\n",
    "                    writer.writerow ({header[0]:id,header[1]:sku,header[2]:name, header[3]:short_url, header[4]:short_description, header[5]: price,header[6]: original, header[7]:rating_average ,header[8]: review_count,header[9]:productset_group_name,header[10]:day_ago_created,header[11]:all_time_quality_sold,header[12]:image_url})\n",
    "                except: TypeError"
   ]
  }
 ],
 "metadata": {
  "kernelspec": {
   "display_name": "Python 3",
   "language": "python",
   "name": "python3"
  },
  "language_info": {
   "codemirror_mode": {
    "name": "ipython",
    "version": 3
   },
   "file_extension": ".py",
   "mimetype": "text/x-python",
   "name": "python",
   "nbconvert_exporter": "python",
   "pygments_lexer": "ipython3",
   "version": "3.10.7"
  },
  "orig_nbformat": 4,
  "vscode": {
   "interpreter": {
    "hash": "a9cff5a362bc38ef45d817ae74b1af54d6a076e3d773891282bce078b815ba34"
   }
  }
 },
 "nbformat": 4,
 "nbformat_minor": 2
}
