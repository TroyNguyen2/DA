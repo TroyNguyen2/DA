{
 "cells": [
  {
   "cell_type": "code",
   "execution_count": 1,
   "metadata": {},
   "outputs": [],
   "source": [
    "from selenium import webdriver\n",
    "from selenium.common.exceptions import NoSuchElementException, ElementNotInteractableException\n",
    "from selenium.webdriver.common.by import By\n",
    "import re\n",
    "import random\n",
    "from time import sleep\n",
    "from bs4 import BeautifulSoup\n"
   ]
  },
  {
   "cell_type": "code",
   "execution_count": 2,
   "metadata": {},
   "outputs": [
    {
     "name": "stderr",
     "output_type": "stream",
     "text": [
      "C:\\Users\\Admin\\AppData\\Local\\Temp\\ipykernel_14140\\1422764096.py:3: DeprecationWarning: executable_path has been deprecated, please pass in a Service object\n",
      "  driver=webdriver.Chrome('chromedriver.exe')\n"
     ]
    }
   ],
   "source": [
    "#Declare browser\n",
    "from webbrowser import Chrome\n",
    "driver=webdriver.Chrome('chromedriver.exe')\n",
    "URL='https://genvita.vn/thu-thach'\n",
    "driver.get(URL)\n"
   ]
  },
  {
   "cell_type": "code",
   "execution_count": 3,
   "metadata": {},
   "outputs": [],
   "source": [
    "# Số lượng trang muốn lấy\n",
    "number_of_loops=5\n",
    "for loop in range(number_of_loops):\n",
    "    driver.execute_script('window.scrollTo(0,document.body.scrollHeight);')\n",
    "    sleep(random.randint(1,2))\n",
    "    click_button=driver.find_element(By.XPATH,\"/html/body/main/section[2]/div/div[3]/a\").click()"
   ]
  },
  {
   "cell_type": "code",
   "execution_count": 4,
   "metadata": {},
   "outputs": [
    {
     "data": {
      "text/plain": [
       "['Tìm đáp án đúng, trúng quà xịn',\n",
       " 'Đoán tên sản phẩm, nhận ngay quà xịn',\n",
       " 'Chia sẻ MV hay, nhận quà ngay',\n",
       " 'Điểm tựa yêu thương',\n",
       " 'Chia sẻ kỷ niệm vui, khui quà cực chất',\n",
       " 'Chọn lì xì, nhận quà mê ly',\n",
       " 'Xem MV Tết, rinh quà Như Ý',\n",
       " 'Giáng Sinh tri ân, nhận quà Như Ý',\n",
       " 'Để lại đánh giá, nhận quà thả ga',\n",
       " 'Đi bộ cùng Tinh Thần Đỏ, sát cánh bên miền Trung',\n",
       " 'Hoàn tất hồ sơ cá nhân, thêm điểm đổi quà',\n",
       " 'Đoán tên sản phẩm bảo hiểm nhận điểm đổi iPhone11',\n",
       " 'Chọn đáp án đúng, trúng iPad xịn',\n",
       " '30 giây đăng ký Generator, nhận quà Miễn Phí',\n",
       " 'Theo dõi Instagram ngay, nhận quà mê say',\n",
       " 'Chọn cách ăn bơ đúng, trúng quà bất ngờ',\n",
       " 'Chia sẻ hay, quà trao tay',\n",
       " 'Tìm bài tập giảm cân nhanh, nhận Apple Watch',\n",
       " 'Đoán đúng bài tập thể dục buổi tối, nhận thêm điểm đổi quà',\n",
       " 'Giải mã GenXPlain, nhận quà Như Ý',\n",
       " 'Tìm trái cây giảm cân, nhận quà bao la',\n",
       " '1 phút đăng ký GenVita, mang quà Xịn về nhà',\n",
       " 'Nổi hạch ở cổ có nguy hiểm - Trả lời đúng có quà',\n",
       " 'Chọn hình đúng, trúng quà bao la',\n",
       " 'Tìm đúng thực phẩm ít calo, trúng quà thiết thực',\n",
       " 'Nhìn hình đoán động tác, mang quà Xịn về nhà',\n",
       " 'Giải đố vui, khui quà 5 triệu',\n",
       " 'Đi bộ cùng gia đình, rinh quà 100 triệu',\n",
       " 'Đoán tư thế Plank, có ngay Samsung watch',\n",
       " 'Tìm mã khóa, nhận quà 5 triệu']"
      ]
     },
     "execution_count": 4,
     "metadata": {},
     "output_type": "execute_result"
    }
   ],
   "source": [
    "#Lấy Title và List danh sách URL web để lấy content;Time;Comment Total;..\n",
    "elems=driver.find_elements(By.CSS_SELECTOR,\".title [href] \")\n",
    "Title = [elem.text for elem in elems]\n",
    "links=[elem.get_attribute('href') for elem in elems]\n",
    "Title"
   ]
  },
  {
   "cell_type": "code",
   "execution_count": 5,
   "metadata": {},
   "outputs": [],
   "source": [
    "#Cào Html\n",
    "driver.get(links[1])\n",
    "page_links=BeautifulSoup(driver.page_source,\"html.parser\")\n",
    "\n"
   ]
  },
  {
   "cell_type": "code",
   "execution_count": 43,
   "metadata": {},
   "outputs": [
    {
     "data": {
      "text/plain": [
       "<div class=\"challenge-header\">\n",
       "<h2 class=\"heading\">Thử thách gì ?</h2>\n",
       "<p>\n",
       "</p><p>Xem video dưới đây và trả lời 2 câu hỏi:</p>\n",
       "<p><strong><span style=\"color: #c21b21;\">1. Tiền Nhàn Rỗi được cặp vợ chồng quyết định sử dụng để làm gì?</span></strong> </p>\n",
       "<ul>\n",
       "<li>A: Đề phòng rủi ro</li>\n",
       "<li>B: Đầu tư sinh lời </li>\n",
       "<li>C: Mua sản phẩm bảo hiểm để vừa được bảo vệ, lại đầu tư sinh lời </li>\n",
       "</ul>\n",
       "<div><strong><span style=\"color: #c21b21;\">2. Tìm tên chính xác sản phẩm bảo hiểm được vợ chồng \"chọn mặt gửi vàng\" trong video.</span></strong></div>\n",
       "<p><strong> </strong></p>\n",
       "<iframe allow=\"accelerometer; autoplay; clipboard-write; encrypted-media; gyroscope; picture-in-picture\" frameborder=\"0\" height=\"315\" src=\"https://www.youtube.com/embed/n_LU8pyX_cQ\" title=\"YouTube video player\" width=\"560\"></iframe> <p></p>\n",
       "</div>"
      ]
     },
     "execution_count": 43,
     "metadata": {},
     "output_type": "execute_result"
    }
   ],
   "source": [
    "info_new=page_links.find('div',class_='challenge-header')\n",
    "info_new \n"
   ]
  },
  {
   "cell_type": "code",
   "execution_count": 46,
   "metadata": {},
   "outputs": [
    {
     "data": {
      "text/plain": [
       "<div class=\"item is-facebook\" data-action-type=\"Facebook\" data-objectid=\"d3724162-1ca3-4399-a61e-9773d5717e2b\" data-share=\"true\" data-share-facebook=\"d3724162-1ca3-4399-a61e-9773d5717e2b\" data-type=\"2\" data-url=\"/api/sitecore/UserAction/Share\" id=\"shareBtn\">\n",
       "<a href=\"javascript:void(0)\" title=\"facebook\">\n",
       "<i class=\"icon-facebook\"></i>\n",
       "</a>\n",
       "</div>"
      ]
     },
     "execution_count": 46,
     "metadata": {},
     "output_type": "execute_result"
    }
   ],
   "source": [
    "info_new2=page_links.find('div',class_='item')\n",
    "info_new2"
   ]
  },
  {
   "cell_type": "code",
   "execution_count": 44,
   "metadata": {},
   "outputs": [
    {
     "data": {
      "text/plain": [
       "<section class=\"rich-text\">\n",
       "<ul>\n",
       "<li><span style=\"color: #c21b21;\"><strong>01 giải Đầu Tư Như Ý</strong></span>: Thành viên nhận <span style=\"color: #c21b21;\">30.000 điểm</span></li>\n",
       "<li><span style=\"color: #c21b21;\"><strong>10 giải Bảo Vệ Tốt</strong></span>: Mỗi thành viên nhận <span style=\"color: #c21b21;\">5.000 điểm</span></li>\n",
       "<li><span style=\"color: #c21b21;\"><strong>50 giải Chốt Lời Giỏi</strong></span>: Mỗi thành viên nhận <span style=\"color: #c21b21;\">500 điểm</span></li>\n",
       "</ul>\n",
       "<div style=\"text-align: center;\"><img alt=\"Đoán tên sản phẩm, nhận ngay quà xịn\" longdesc=\"Đoán tên sản phẩm, nhận ngay quà xịn\" src=\"/-/media/challeng-doan-ten-san-pham-gift.ashx?h=1001&amp;w=1000&amp;la=en&amp;hash=7C637E4B3B2C2CA40CF298E65B94353EB69BC483\" style=\"width: 1000px; height: 1001px;\" title=\"Đoán tên sản phẩm, nhận ngay quà xịn\"/></div>\n",
       "</section>"
      ]
     },
     "execution_count": 44,
     "metadata": {},
     "output_type": "execute_result"
    }
   ],
   "source": [
    "# Lấy time\n",
    "info_new3=page_links.find('section',class_='rich-text')\n",
    "info_new3"
   ]
  },
  {
   "cell_type": "code",
   "execution_count": null,
   "metadata": {},
   "outputs": [],
   "source": []
  },
  {
   "cell_type": "code",
   "execution_count": null,
   "metadata": {},
   "outputs": [],
   "source": []
  },
  {
   "cell_type": "code",
   "execution_count": null,
   "metadata": {},
   "outputs": [],
   "source": []
  },
  {
   "cell_type": "code",
   "execution_count": null,
   "metadata": {},
   "outputs": [],
   "source": []
  },
  {
   "cell_type": "code",
   "execution_count": null,
   "metadata": {},
   "outputs": [],
   "source": []
  },
  {
   "cell_type": "code",
   "execution_count": null,
   "metadata": {},
   "outputs": [],
   "source": []
  },
  {
   "cell_type": "code",
   "execution_count": null,
   "metadata": {},
   "outputs": [],
   "source": []
  }
 ],
 "metadata": {
  "kernelspec": {
   "display_name": "Python 3.10.5 64-bit",
   "language": "python",
   "name": "python3"
  },
  "language_info": {
   "codemirror_mode": {
    "name": "ipython",
    "version": 3
   },
   "file_extension": ".py",
   "mimetype": "text/x-python",
   "name": "python",
   "nbconvert_exporter": "python",
   "pygments_lexer": "ipython3",
   "version": "3.10.5"
  },
  "orig_nbformat": 4,
  "vscode": {
   "interpreter": {
    "hash": "a42ccb73e7d9bfdf27e036f1d2b8b681e55fc0743cc5586bc2474d4a60f4b886"
   }
  }
 },
 "nbformat": 4,
 "nbformat_minor": 2
}
